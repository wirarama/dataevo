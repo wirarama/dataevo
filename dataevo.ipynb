{
 "cells": [
  {
   "cell_type": "code",
   "execution_count": null,
   "metadata": {},
   "outputs": [],
   "source": [
    "import randPanda as rdp"
   ]
  },
  {
   "cell_type": "code",
   "execution_count": null,
   "metadata": {},
   "outputs": [],
   "source": [
    "col = [[100,400],[100,500],[100,822],[133,9111],[100,500],[100,822],[133,9111]]\n",
    "cols = ['a','b','c','d','e','f','g']\n",
    "ano = []\n",
    "test = rdp.randPanda(col,2001,ano,cols)\n",
    "test.exportCSV('simpledata.csv')"
   ]
  },
  {
   "cell_type": "code",
   "execution_count": null,
   "metadata": {},
   "outputs": [],
   "source": [
    "print(test)"
   ]
  },
  {
   "cell_type": "code",
   "execution_count": null,
   "metadata": {},
   "outputs": [],
   "source": [
    "print(test.data[-1])"
   ]
  },
  {
   "cell_type": "code",
   "execution_count": 1,
   "metadata": {},
   "outputs": [],
   "source": [
    "import randomTimeSeriesPandas as rdt"
   ]
  },
  {
   "cell_type": "code",
   "execution_count": 2,
   "metadata": {},
   "outputs": [],
   "source": [
    "col = [[1,10],[50,100],[150,450],[20,35]]\n",
    "pol1 = [[1,10],[50,100],[1500,1700],[1120,1300]]\n",
    "pol2 = [[1,10],[5000,9000],[3500,5700],[1120,8300]]\n",
    "ano = [[20,pol1],[5,pol2]]\n",
    "test = rdt.RandDatTimeSeries(\n",
    "        col,ano,\n",
    "        '2020-04-01 00:00:00',\n",
    "        '2020-04-21 00:00:00',\n",
    "        ['tgl','a','b','c','d'])\n",
    "test.exportCSV(\"DataWaktu.csv\")"
   ]
  },
  {
   "cell_type": "code",
   "execution_count": null,
   "metadata": {},
   "outputs": [],
   "source": []
  }
 ],
 "metadata": {
  "kernelspec": {
   "display_name": "Python 3",
   "language": "python",
   "name": "python3"
  },
  "language_info": {
   "codemirror_mode": {
    "name": "ipython",
    "version": 3
   },
   "file_extension": ".py",
   "mimetype": "text/x-python",
   "name": "python",
   "nbconvert_exporter": "python",
   "pygments_lexer": "ipython3",
   "version": "3.7.4"
  }
 },
 "nbformat": 4,
 "nbformat_minor": 2
}
