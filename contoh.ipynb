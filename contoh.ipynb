{
 "cells": [
  {
   "cell_type": "code",
   "execution_count": 1,
   "id": "ac12b2a9",
   "metadata": {},
   "outputs": [],
   "source": [
    "import pandas as pd"
   ]
  },
  {
   "cell_type": "code",
   "execution_count": 2,
   "id": "2a6fa587",
   "metadata": {},
   "outputs": [],
   "source": [
    "df = pd.read_csv('data-irigasi-tetes.csv')"
   ]
  },
  {
   "cell_type": "code",
   "execution_count": 3,
   "id": "f955df08",
   "metadata": {},
   "outputs": [
    {
     "data": {
      "text/plain": [
       "Index(['Unnamed: 0', 'date', 'humidity', 'temperature', 'ambient humidity',\n",
       "       'ambient temperature', 'light', 'status'],\n",
       "      dtype='object')"
      ]
     },
     "execution_count": 3,
     "metadata": {},
     "output_type": "execute_result"
    }
   ],
   "source": [
    "df.columns"
   ]
  },
  {
   "cell_type": "code",
   "execution_count": 7,
   "id": "2bbf7578",
   "metadata": {},
   "outputs": [],
   "source": [
    "df = df[['date', 'humidity', 'temperature', 'ambient humidity',\n",
    "       'ambient temperature', 'light', 'status']]"
   ]
  },
  {
   "cell_type": "code",
   "execution_count": 8,
   "id": "786ee487",
   "metadata": {},
   "outputs": [
    {
     "data": {
      "text/html": [
       "<div>\n",
       "<style scoped>\n",
       "    .dataframe tbody tr th:only-of-type {\n",
       "        vertical-align: middle;\n",
       "    }\n",
       "\n",
       "    .dataframe tbody tr th {\n",
       "        vertical-align: top;\n",
       "    }\n",
       "\n",
       "    .dataframe thead th {\n",
       "        text-align: right;\n",
       "    }\n",
       "</style>\n",
       "<table border=\"1\" class=\"dataframe\">\n",
       "  <thead>\n",
       "    <tr style=\"text-align: right;\">\n",
       "      <th></th>\n",
       "      <th>humidity</th>\n",
       "      <th>temperature</th>\n",
       "      <th>ambient humidity</th>\n",
       "      <th>ambient temperature</th>\n",
       "      <th>light</th>\n",
       "    </tr>\n",
       "  </thead>\n",
       "  <tbody>\n",
       "    <tr>\n",
       "      <th>count</th>\n",
       "      <td>16200.000000</td>\n",
       "      <td>16200.000000</td>\n",
       "      <td>16200.000000</td>\n",
       "      <td>16200.000000</td>\n",
       "      <td>16200.000000</td>\n",
       "    </tr>\n",
       "    <tr>\n",
       "      <th>mean</th>\n",
       "      <td>40.165062</td>\n",
       "      <td>45.986959</td>\n",
       "      <td>46.161296</td>\n",
       "      <td>33.574568</td>\n",
       "      <td>45025.001173</td>\n",
       "    </tr>\n",
       "    <tr>\n",
       "      <th>std</th>\n",
       "      <td>24.887582</td>\n",
       "      <td>3.997128</td>\n",
       "      <td>5.501626</td>\n",
       "      <td>0.803487</td>\n",
       "      <td>58.429120</td>\n",
       "    </tr>\n",
       "    <tr>\n",
       "      <th>min</th>\n",
       "      <td>20.000000</td>\n",
       "      <td>37.990000</td>\n",
       "      <td>35.000000</td>\n",
       "      <td>30.000000</td>\n",
       "      <td>44887.000000</td>\n",
       "    </tr>\n",
       "    <tr>\n",
       "      <th>25%</th>\n",
       "      <td>20.000000</td>\n",
       "      <td>45.010000</td>\n",
       "      <td>42.000000</td>\n",
       "      <td>33.000000</td>\n",
       "      <td>44982.000000</td>\n",
       "    </tr>\n",
       "    <tr>\n",
       "      <th>50%</th>\n",
       "      <td>40.000000</td>\n",
       "      <td>45.010000</td>\n",
       "      <td>46.000000</td>\n",
       "      <td>34.000000</td>\n",
       "      <td>45037.000000</td>\n",
       "    </tr>\n",
       "    <tr>\n",
       "      <th>75%</th>\n",
       "      <td>40.000000</td>\n",
       "      <td>50.010000</td>\n",
       "      <td>49.000000</td>\n",
       "      <td>34.000000</td>\n",
       "      <td>45070.000000</td>\n",
       "    </tr>\n",
       "    <tr>\n",
       "      <th>max</th>\n",
       "      <td>98.000000</td>\n",
       "      <td>50.010000</td>\n",
       "      <td>67.000000</td>\n",
       "      <td>34.000000</td>\n",
       "      <td>45124.000000</td>\n",
       "    </tr>\n",
       "  </tbody>\n",
       "</table>\n",
       "</div>"
      ],
      "text/plain": [
       "           humidity   temperature  ambient humidity  ambient temperature  \\\n",
       "count  16200.000000  16200.000000      16200.000000         16200.000000   \n",
       "mean      40.165062     45.986959         46.161296            33.574568   \n",
       "std       24.887582      3.997128          5.501626             0.803487   \n",
       "min       20.000000     37.990000         35.000000            30.000000   \n",
       "25%       20.000000     45.010000         42.000000            33.000000   \n",
       "50%       40.000000     45.010000         46.000000            34.000000   \n",
       "75%       40.000000     50.010000         49.000000            34.000000   \n",
       "max       98.000000     50.010000         67.000000            34.000000   \n",
       "\n",
       "              light  \n",
       "count  16200.000000  \n",
       "mean   45025.001173  \n",
       "std       58.429120  \n",
       "min    44887.000000  \n",
       "25%    44982.000000  \n",
       "50%    45037.000000  \n",
       "75%    45070.000000  \n",
       "max    45124.000000  "
      ]
     },
     "execution_count": 8,
     "metadata": {},
     "output_type": "execute_result"
    }
   ],
   "source": [
    "df.describe()"
   ]
  },
  {
   "cell_type": "code",
   "execution_count": 9,
   "id": "6c9af6d6",
   "metadata": {},
   "outputs": [
    {
     "data": {
      "text/plain": [
       "array(['siram', 'mengering', 'jeda'], dtype=object)"
      ]
     },
     "execution_count": 9,
     "metadata": {},
     "output_type": "execute_result"
    }
   ],
   "source": [
    "df['status'].unique()"
   ]
  },
  {
   "cell_type": "code",
   "execution_count": 10,
   "id": "5c5e53c0",
   "metadata": {},
   "outputs": [
    {
     "data": {
      "text/html": [
       "<div>\n",
       "<style scoped>\n",
       "    .dataframe tbody tr th:only-of-type {\n",
       "        vertical-align: middle;\n",
       "    }\n",
       "\n",
       "    .dataframe tbody tr th {\n",
       "        vertical-align: top;\n",
       "    }\n",
       "\n",
       "    .dataframe thead th {\n",
       "        text-align: right;\n",
       "    }\n",
       "</style>\n",
       "<table border=\"1\" class=\"dataframe\">\n",
       "  <thead>\n",
       "    <tr style=\"text-align: right;\">\n",
       "      <th></th>\n",
       "      <th>humidity</th>\n",
       "      <th>temperature</th>\n",
       "      <th>ambient humidity</th>\n",
       "      <th>ambient temperature</th>\n",
       "      <th>light</th>\n",
       "    </tr>\n",
       "  </thead>\n",
       "  <tbody>\n",
       "    <tr>\n",
       "      <th>count</th>\n",
       "      <td>1800.0</td>\n",
       "      <td>1800.000000</td>\n",
       "      <td>1800.000000</td>\n",
       "      <td>1800.000000</td>\n",
       "      <td>1800.000000</td>\n",
       "    </tr>\n",
       "    <tr>\n",
       "      <th>mean</th>\n",
       "      <td>98.0</td>\n",
       "      <td>37.990194</td>\n",
       "      <td>54.370556</td>\n",
       "      <td>33.811111</td>\n",
       "      <td>45031.479444</td>\n",
       "    </tr>\n",
       "    <tr>\n",
       "      <th>std</th>\n",
       "      <td>0.0</td>\n",
       "      <td>0.002608</td>\n",
       "      <td>6.302890</td>\n",
       "      <td>0.391529</td>\n",
       "      <td>13.155191</td>\n",
       "    </tr>\n",
       "    <tr>\n",
       "      <th>min</th>\n",
       "      <td>98.0</td>\n",
       "      <td>37.990000</td>\n",
       "      <td>40.000000</td>\n",
       "      <td>33.000000</td>\n",
       "      <td>44995.000000</td>\n",
       "    </tr>\n",
       "    <tr>\n",
       "      <th>25%</th>\n",
       "      <td>98.0</td>\n",
       "      <td>37.990000</td>\n",
       "      <td>50.000000</td>\n",
       "      <td>34.000000</td>\n",
       "      <td>45027.000000</td>\n",
       "    </tr>\n",
       "    <tr>\n",
       "      <th>50%</th>\n",
       "      <td>98.0</td>\n",
       "      <td>37.990000</td>\n",
       "      <td>55.000000</td>\n",
       "      <td>34.000000</td>\n",
       "      <td>45034.000000</td>\n",
       "    </tr>\n",
       "    <tr>\n",
       "      <th>75%</th>\n",
       "      <td>98.0</td>\n",
       "      <td>37.990000</td>\n",
       "      <td>59.000000</td>\n",
       "      <td>34.000000</td>\n",
       "      <td>45040.000000</td>\n",
       "    </tr>\n",
       "    <tr>\n",
       "      <th>max</th>\n",
       "      <td>98.0</td>\n",
       "      <td>38.030000</td>\n",
       "      <td>67.000000</td>\n",
       "      <td>34.000000</td>\n",
       "      <td>45059.000000</td>\n",
       "    </tr>\n",
       "  </tbody>\n",
       "</table>\n",
       "</div>"
      ],
      "text/plain": [
       "       humidity  temperature  ambient humidity  ambient temperature  \\\n",
       "count    1800.0  1800.000000       1800.000000          1800.000000   \n",
       "mean       98.0    37.990194         54.370556            33.811111   \n",
       "std         0.0     0.002608          6.302890             0.391529   \n",
       "min        98.0    37.990000         40.000000            33.000000   \n",
       "25%        98.0    37.990000         50.000000            34.000000   \n",
       "50%        98.0    37.990000         55.000000            34.000000   \n",
       "75%        98.0    37.990000         59.000000            34.000000   \n",
       "max        98.0    38.030000         67.000000            34.000000   \n",
       "\n",
       "              light  \n",
       "count   1800.000000  \n",
       "mean   45031.479444  \n",
       "std       13.155191  \n",
       "min    44995.000000  \n",
       "25%    45027.000000  \n",
       "50%    45034.000000  \n",
       "75%    45040.000000  \n",
       "max    45059.000000  "
      ]
     },
     "execution_count": 10,
     "metadata": {},
     "output_type": "execute_result"
    }
   ],
   "source": [
    "df[(df['status']==\"siram\")].describe()"
   ]
  },
  {
   "cell_type": "code",
   "execution_count": 11,
   "id": "71f93161",
   "metadata": {},
   "outputs": [
    {
     "data": {
      "text/html": [
       "<div>\n",
       "<style scoped>\n",
       "    .dataframe tbody tr th:only-of-type {\n",
       "        vertical-align: middle;\n",
       "    }\n",
       "\n",
       "    .dataframe tbody tr th {\n",
       "        vertical-align: top;\n",
       "    }\n",
       "\n",
       "    .dataframe thead th {\n",
       "        text-align: right;\n",
       "    }\n",
       "</style>\n",
       "<table border=\"1\" class=\"dataframe\">\n",
       "  <thead>\n",
       "    <tr style=\"text-align: right;\">\n",
       "      <th></th>\n",
       "      <th>humidity</th>\n",
       "      <th>temperature</th>\n",
       "      <th>ambient humidity</th>\n",
       "      <th>ambient temperature</th>\n",
       "      <th>light</th>\n",
       "    </tr>\n",
       "  </thead>\n",
       "  <tbody>\n",
       "    <tr>\n",
       "      <th>count</th>\n",
       "      <td>7200.000000</td>\n",
       "      <td>7200.000000</td>\n",
       "      <td>7200.000000</td>\n",
       "      <td>7200.000000</td>\n",
       "      <td>7200.000000</td>\n",
       "    </tr>\n",
       "    <tr>\n",
       "      <th>mean</th>\n",
       "      <td>44.783611</td>\n",
       "      <td>44.326636</td>\n",
       "      <td>45.418750</td>\n",
       "      <td>33.394028</td>\n",
       "      <td>45068.488056</td>\n",
       "    </tr>\n",
       "    <tr>\n",
       "      <th>std</th>\n",
       "      <td>12.581320</td>\n",
       "      <td>1.652511</td>\n",
       "      <td>5.361038</td>\n",
       "      <td>0.998620</td>\n",
       "      <td>25.742015</td>\n",
       "    </tr>\n",
       "    <tr>\n",
       "      <th>min</th>\n",
       "      <td>40.000000</td>\n",
       "      <td>37.990000</td>\n",
       "      <td>35.000000</td>\n",
       "      <td>30.000000</td>\n",
       "      <td>45024.000000</td>\n",
       "    </tr>\n",
       "    <tr>\n",
       "      <th>25%</th>\n",
       "      <td>40.000000</td>\n",
       "      <td>45.010000</td>\n",
       "      <td>41.000000</td>\n",
       "      <td>33.000000</td>\n",
       "      <td>45043.000000</td>\n",
       "    </tr>\n",
       "    <tr>\n",
       "      <th>50%</th>\n",
       "      <td>40.000000</td>\n",
       "      <td>45.010000</td>\n",
       "      <td>45.000000</td>\n",
       "      <td>34.000000</td>\n",
       "      <td>45070.000000</td>\n",
       "    </tr>\n",
       "    <tr>\n",
       "      <th>75%</th>\n",
       "      <td>40.000000</td>\n",
       "      <td>45.010000</td>\n",
       "      <td>49.000000</td>\n",
       "      <td>34.000000</td>\n",
       "      <td>45089.000000</td>\n",
       "    </tr>\n",
       "    <tr>\n",
       "      <th>max</th>\n",
       "      <td>98.000000</td>\n",
       "      <td>45.010000</td>\n",
       "      <td>56.000000</td>\n",
       "      <td>34.000000</td>\n",
       "      <td>45124.000000</td>\n",
       "    </tr>\n",
       "  </tbody>\n",
       "</table>\n",
       "</div>"
      ],
      "text/plain": [
       "          humidity  temperature  ambient humidity  ambient temperature  \\\n",
       "count  7200.000000  7200.000000       7200.000000          7200.000000   \n",
       "mean     44.783611    44.326636         45.418750            33.394028   \n",
       "std      12.581320     1.652511          5.361038             0.998620   \n",
       "min      40.000000    37.990000         35.000000            30.000000   \n",
       "25%      40.000000    45.010000         41.000000            33.000000   \n",
       "50%      40.000000    45.010000         45.000000            34.000000   \n",
       "75%      40.000000    45.010000         49.000000            34.000000   \n",
       "max      98.000000    45.010000         56.000000            34.000000   \n",
       "\n",
       "              light  \n",
       "count   7200.000000  \n",
       "mean   45068.488056  \n",
       "std       25.742015  \n",
       "min    45024.000000  \n",
       "25%    45043.000000  \n",
       "50%    45070.000000  \n",
       "75%    45089.000000  \n",
       "max    45124.000000  "
      ]
     },
     "execution_count": 11,
     "metadata": {},
     "output_type": "execute_result"
    }
   ],
   "source": [
    "df[(df['status']==\"mengering\")].describe()"
   ]
  },
  {
   "cell_type": "code",
   "execution_count": 12,
   "id": "605d4ad0",
   "metadata": {},
   "outputs": [],
   "source": [
    "import matplotlib.pyplot as plt\n",
    "%matplotlib inline"
   ]
  },
  {
   "cell_type": "code",
   "execution_count": 17,
   "id": "a5304f6d",
   "metadata": {},
   "outputs": [
    {
     "data": {
      "text/plain": [
       "<Axes: >"
      ]
     },
     "execution_count": 17,
     "metadata": {},
     "output_type": "execute_result"
    },
    {
     "data": {
      "image/png": "[encoded data removed]",
      "text/plain": [
       "<Figure size 640x480 with 1 Axes>"
      ]
     },
     "metadata": {},
     "output_type": "display_data"
    }
   ],
   "source": [
    "plt.figure()\n",
    "df[(df['status']==\"siram\")]['humidity'].plot()"
   ]
  },
  {
   "cell_type": "code",
   "execution_count": null,
   "id": "03f4edad",
   "metadata": {},
   "outputs": [],
   "source": []
  }
 ],
 "metadata": {
  "kernelspec": {
   "display_name": "Python 3 (ipykernel)",
   "language": "python",
   "name": "python3"
  },
  "language_info": {
   "codemirror_mode": {
    "name": "ipython",
    "version": 3
   },
   "file_extension": ".py",
   "mimetype": "text/x-python",
   "name": "python",
   "nbconvert_exporter": "python",
   "pygments_lexer": "ipython3",
   "version": "3.11.4"
  }
 },
 "nbformat": 4,
 "nbformat_minor": 5
}
