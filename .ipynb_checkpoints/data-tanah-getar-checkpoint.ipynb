{
 "cells": [
  {
   "cell_type": "code",
   "execution_count": 1,
   "id": "4d0b3e3b",
   "metadata": {},
   "outputs": [],
   "source": [
    "from random import randint\n",
    "import datetime\n",
    "import time"
   ]
  },
  {
   "cell_type": "code",
   "execution_count": 2,
   "id": "35b98dda",
   "metadata": {},
   "outputs": [],
   "source": [
    "def waktu(ud):\n",
    "    return datetime.datetime.fromtimestamp(ud+1).strftime('%Y-%m-%d %H:%M:%S')"
   ]
  },
  {
   "cell_type": "code",
   "execution_count": 32,
   "id": "132fc5c6",
   "metadata": {},
   "outputs": [],
   "source": [
    "data = []"
   ]
  },
  {
   "cell_type": "code",
   "execution_count": 8,
   "id": "3e53eabf",
   "metadata": {},
   "outputs": [],
   "source": [
    "#basah ke basah 2 m\n",
    "d = datetime.datetime(2022, 2, 3, 10, 15)\n",
    "ud = time.mktime(d.timetuple())\n",
    "humid1 = 78\n",
    "vibration1 = 2.367\n",
    "humid2 = 77\n",
    "vibration2 = 1.267\n",
    "temp = 38.8\n",
    "for i in range(0,1800):\n",
    "    if humid1 < 84:\n",
    "        poss = randint(0,60)\n",
    "        if poss == 1:\n",
    "            humid1 += 1\n",
    "    if vibration1 > 2.103:\n",
    "        poss = randint(0,40)\n",
    "        if poss == 1:\n",
    "            vibration1 -= randint(0,160)/1000\n",
    "    if humid2 < 83:\n",
    "        poss = randint(0,60)\n",
    "        if poss == 1:\n",
    "            humid2 += 1\n",
    "    if vibration2 > 0.956:\n",
    "        poss = randint(0,40)\n",
    "        if poss == 1:\n",
    "            vibration2 -= randint(0,160)/1000\n",
    "    if temp > 38:\n",
    "        temp -= (randint(0,1)/100)\n",
    "    elif temp < 40:\n",
    "        temp += (randint(0,1)/100)\n",
    "    ud += 1\n",
    "    data.append([waktu(ud),humid1,vibration1,humid2,vibration2,temp,2,'basah ke basah'])"
   ]
  },
  {
   "cell_type": "code",
   "execution_count": 9,
   "id": "0ec04a84",
   "metadata": {},
   "outputs": [],
   "source": [
    "#basah ke basah 5 m\n",
    "d = datetime.datetime(2022, 2, 3, 11, 25)\n",
    "ud = time.mktime(d.timetuple())\n",
    "humid1 = 78\n",
    "vibration1 = 2.367\n",
    "humid2 = 77\n",
    "vibration2 = 1.012\n",
    "temp = 38.8\n",
    "for i in range(0,1800):\n",
    "    if humid1 < 84:\n",
    "        poss = randint(0,60)\n",
    "        if poss == 1:\n",
    "            humid1 += 1\n",
    "    if vibration1 > 2.103:\n",
    "        poss = randint(0,40)\n",
    "        if poss == 1:\n",
    "            vibration1 -= randint(0,160)/1000\n",
    "    if humid2 < 83:\n",
    "        poss = randint(0,60)\n",
    "        if poss == 1:\n",
    "            humid2 += 1\n",
    "    if vibration2 > 0.756:\n",
    "        poss = randint(0,40)\n",
    "        if poss == 1:\n",
    "            vibration2 -= randint(0,160)/1000\n",
    "    if temp > 38:\n",
    "        temp -= (randint(0,1)/100)\n",
    "    elif temp < 40:\n",
    "        temp += (randint(0,1)/100)\n",
    "    ud += 1\n",
    "    data.append([waktu(ud),humid1,vibration1,humid2,vibration2,temp,5,'basah ke basah'])"
   ]
  },
  {
   "cell_type": "code",
   "execution_count": 10,
   "id": "c68e1d8e",
   "metadata": {},
   "outputs": [],
   "source": [
    "#basah ke basah 10 m\n",
    "d = datetime.datetime(2022, 2, 3, 12, 5)\n",
    "ud = time.mktime(d.timetuple())\n",
    "humid1 = 78\n",
    "vibration1 = 2.367\n",
    "humid2 = 77\n",
    "vibration2 = 0.802\n",
    "temp = 39.9\n",
    "for i in range(0,1800):\n",
    "    if humid1 < 84:\n",
    "        poss = randint(0,60)\n",
    "        if poss == 1:\n",
    "            humid1 += 1\n",
    "    if vibration1 > 2.103:\n",
    "        poss = randint(0,40)\n",
    "        if poss == 1:\n",
    "            vibration1 -= randint(0,160)/1000\n",
    "    if humid2 < 83:\n",
    "        poss = randint(0,60)\n",
    "        if poss == 1:\n",
    "            humid2 += 1\n",
    "    if vibration2 > 0.624:\n",
    "        poss = randint(0,40)\n",
    "        if poss == 1:\n",
    "            vibration2 -= randint(0,160)/1000\n",
    "    if temp > 38:\n",
    "        temp -= (randint(0,1)/100)\n",
    "    elif temp < 40:\n",
    "        temp += (randint(0,1)/100)\n",
    "    ud += 1\n",
    "    data.append([waktu(ud),humid1,vibration1,humid2,vibration2,temp,10,'basah ke basah'])"
   ]
  },
  {
   "cell_type": "code",
   "execution_count": 24,
   "id": "8e81e1f1",
   "metadata": {},
   "outputs": [],
   "source": [
    "#basah ke kering 2 m\n",
    "d = datetime.datetime(2022, 2, 4, 10, 34)\n",
    "ud = time.mktime(d.timetuple())\n",
    "humid1 = 78\n",
    "vibration1 = 2.367\n",
    "humid2 = 42\n",
    "vibration2 = 1.267\n",
    "temp = 35.4\n",
    "for i in range(0,1800):\n",
    "    if humid1 < 84:\n",
    "        poss = randint(0,60)\n",
    "        if poss == 1:\n",
    "            humid1 += 1\n",
    "    if vibration1 > 2.103:\n",
    "        poss = randint(0,40)\n",
    "        if poss == 1:\n",
    "            vibration1 -= randint(0,160)/1000\n",
    "    if humid2 < 49:\n",
    "        poss = randint(0,60)\n",
    "        if poss == 1:\n",
    "            humid2 += 1\n",
    "    if vibration2 > 1.226:\n",
    "        poss = randint(0,40)\n",
    "        if poss == 1:\n",
    "            vibration2 -= randint(0,160)/1000\n",
    "    if temp > 34:\n",
    "        temp = temp-(randint(0,1)/100)\n",
    "    elif temp < 52:\n",
    "        temp += (randint(0,1)/100)\n",
    "    ud += 1\n",
    "    data.append([waktu(ud),humid1,vibration1,humid2,vibration2,temp,2,'basah ke kering'])"
   ]
  },
  {
   "cell_type": "code",
   "execution_count": 25,
   "id": "92ab206d",
   "metadata": {},
   "outputs": [],
   "source": [
    "#basah ke kering 5 m\n",
    "d = datetime.datetime(2022, 2, 4, 11, 45)\n",
    "ud = time.mktime(d.timetuple())\n",
    "humid1 = 78\n",
    "vibration1 = 2.367\n",
    "humid2 = 41\n",
    "vibration2 = 1.267\n",
    "temp = 35.4\n",
    "for i in range(0,1800):\n",
    "    if humid1 < 84:\n",
    "        poss = randint(0,60)\n",
    "        if poss == 1:\n",
    "            humid1 += 1\n",
    "    if vibration1 > 2.201:\n",
    "        poss = randint(0,40)\n",
    "        if poss == 1:\n",
    "            vibration1 -= randint(0,160)/1000\n",
    "    if humid2 < 49:\n",
    "        poss = randint(0,60)\n",
    "        if poss == 1:\n",
    "            humid2 += 1\n",
    "    if vibration2 > 0.989:\n",
    "        poss = randint(0,40)\n",
    "        if poss == 1:\n",
    "            vibration2 -= randint(0,160)/1000\n",
    "    if temp > 34:\n",
    "        temp = temp-(randint(0,1)/100)\n",
    "    elif temp < 52:\n",
    "        temp += (randint(0,1)/100)\n",
    "    ud += 1\n",
    "    data.append([waktu(ud),humid1,vibration1,humid2,vibration2,temp,5,'basah ke kering'])"
   ]
  },
  {
   "cell_type": "code",
   "execution_count": 26,
   "id": "f37f7eff",
   "metadata": {},
   "outputs": [],
   "source": [
    "#basah ke kering 10 m\n",
    "d = datetime.datetime(2022, 2, 4, 12, 4)\n",
    "ud = time.mktime(d.timetuple())\n",
    "humid1 = 78\n",
    "vibration1 = 2.367\n",
    "humid2 = 41\n",
    "vibration2 = 1.267\n",
    "temp = 35.4\n",
    "for i in range(0,1800):\n",
    "    if humid1 < 84:\n",
    "        poss = randint(0,60)\n",
    "        if poss == 1:\n",
    "            humid1 += 1\n",
    "    if vibration1 > 2.191:\n",
    "        poss = randint(0,40)\n",
    "        if poss == 1:\n",
    "            vibration1 -= randint(0,160)/1000\n",
    "    if humid2 < 49:\n",
    "        poss = randint(0,60)\n",
    "        if poss == 1:\n",
    "            humid2 += 1\n",
    "    if vibration2 > 0.823:\n",
    "        poss = randint(0,40)\n",
    "        if poss == 1:\n",
    "            vibration2 -= randint(0,160)/1000\n",
    "    if temp > 34:\n",
    "        temp = temp-(randint(0,1)/100)\n",
    "    elif temp < 52:\n",
    "        temp += (randint(0,1)/100)\n",
    "    ud += 1\n",
    "    data.append([waktu(ud),humid1,vibration1,humid2,vibration2,temp,10,'basah ke kering'])"
   ]
  },
  {
   "cell_type": "code",
   "execution_count": null,
   "id": "35268f91",
   "metadata": {},
   "outputs": [],
   "source": [
    "#kering ke kering 2 m\n",
    "d = datetime.datetime(2022, 2, 5, 10, 5)\n",
    "ud = time.mktime(d.timetuple())\n",
    "humid1 = 41\n",
    "vibration1 = 2.367\n",
    "humid2 = 42\n",
    "vibration2 = 2.167\n",
    "temp = 38.8\n",
    "for i in range(0,1800):\n",
    "    if humid1 < 59:\n",
    "        poss = randint(0,60)\n",
    "        if poss == 1:\n",
    "            humid1 += 1\n",
    "    if vibration1 > 2.103:\n",
    "        poss = randint(0,40)\n",
    "        if poss == 1:\n",
    "            vibration1 -= randint(0,160)/1000\n",
    "    if humid2 < 58:\n",
    "        poss = randint(0,60)\n",
    "        if poss == 1:\n",
    "            humid2 += 1\n",
    "    if vibration2 > 1.956:\n",
    "        poss = randint(0,40)\n",
    "        if poss == 1:\n",
    "            vibration2 -= randint(0,160)/1000\n",
    "    if temp > 38:\n",
    "        temp = temp-(randint(0,1)/100)\n",
    "    elif temp < 52:\n",
    "        temp += (randint(0,1)/100)\n",
    "    ud += 1\n",
    "    data.append([waktu(ud),humid1,vibration1,humid2,vibration2,temp,2,'kering ke kering'])"
   ]
  },
  {
   "cell_type": "code",
   "execution_count": null,
   "id": "0e266d27",
   "metadata": {},
   "outputs": [],
   "source": [
    "#kering ke kering 5 m\n",
    "d = datetime.datetime(2022, 2, 3, 11, 25)\n",
    "ud = time.mktime(d.timetuple())\n",
    "humid1 = 78\n",
    "vibration1 = 2.367\n",
    "humid2 = 77\n",
    "vibration2 = 1.012\n",
    "temp = 38.8\n",
    "for i in range(0,1800):\n",
    "    if humid1 < 84:\n",
    "        poss = randint(0,60)\n",
    "        if poss == 1:\n",
    "            humid1 += 1\n",
    "    if vibration1 > 2.103:\n",
    "        poss = randint(0,40)\n",
    "        if poss == 1:\n",
    "            vibration1 -= randint(0,160)/1000\n",
    "    if humid2 < 83:\n",
    "        poss = randint(0,60)\n",
    "        if poss == 1:\n",
    "            humid2 += 1\n",
    "    if vibration2 > 0.756:\n",
    "        poss = randint(0,40)\n",
    "        if poss == 1:\n",
    "            vibration2 -= randint(0,160)/1000\n",
    "    if temp > 38:\n",
    "        temp = temp-(randint(0,1)/100)\n",
    "    ud += 1\n",
    "    data.append([waktu(ud),humid1,vibration1,humid2,vibration2,temp,5,'basah ke basah'])"
   ]
  },
  {
   "cell_type": "code",
   "execution_count": null,
   "id": "c0453a7d",
   "metadata": {},
   "outputs": [],
   "source": [
    "#kering ke kering 10 m\n",
    "d = datetime.datetime(2022, 2, 3, 12, 5)\n",
    "ud = time.mktime(d.timetuple())\n",
    "humid1 = 78\n",
    "vibration1 = 2.367\n",
    "humid2 = 77\n",
    "vibration2 = 0.802\n",
    "temp = 39.9\n",
    "for i in range(0,1800):\n",
    "    if humid1 < 84:\n",
    "        poss = randint(0,60)\n",
    "        if poss == 1:\n",
    "            humid1 += 1\n",
    "    if vibration1 > 2.103:\n",
    "        poss = randint(0,40)\n",
    "        if poss == 1:\n",
    "            vibration1 -= randint(0,160)/1000\n",
    "    if humid2 < 83:\n",
    "        poss = randint(0,60)\n",
    "        if poss == 1:\n",
    "            humid2 += 1\n",
    "    if vibration2 > 0.624:\n",
    "        poss = randint(0,40)\n",
    "        if poss == 1:\n",
    "            vibration2 -= randint(0,160)/1000\n",
    "    if temp > 40:\n",
    "        temp = temp-(randint(0,1)/100)\n",
    "    ud += 1\n",
    "    data.append([waktu(ud),humid1,vibration1,humid2,vibration2,temp,10,'basah ke basah'])"
   ]
  },
  {
   "cell_type": "code",
   "execution_count": null,
   "id": "5f7d7e05",
   "metadata": {},
   "outputs": [],
   "source": [
    "data"
   ]
  },
  {
   "cell_type": "code",
   "execution_count": null,
   "id": "8b6b4752",
   "metadata": {},
   "outputs": [],
   "source": [
    "len(data)"
   ]
  },
  {
   "cell_type": "code",
   "execution_count": 11,
   "id": "9cdcaafd",
   "metadata": {},
   "outputs": [],
   "source": [
    "import pandas as pd"
   ]
  },
  {
   "cell_type": "code",
   "execution_count": 27,
   "id": "4bf94a41",
   "metadata": {},
   "outputs": [],
   "source": [
    "df = pd.DataFrame(data,columns=['date','humidity1','vibration1','humidity2','vibration2','temperature','distance','status'])"
   ]
  },
  {
   "cell_type": "code",
   "execution_count": null,
   "id": "f21f5024",
   "metadata": {},
   "outputs": [],
   "source": [
    "df"
   ]
  },
  {
   "cell_type": "code",
   "execution_count": null,
   "id": "2476080d",
   "metadata": {},
   "outputs": [],
   "source": [
    "df.describe()"
   ]
  },
  {
   "cell_type": "code",
   "execution_count": 31,
   "id": "b4ffd22d",
   "metadata": {},
   "outputs": [],
   "source": [
    "df.to_csv('tanahB2K.csv')"
   ]
  },
  {
   "cell_type": "code",
   "execution_count": 13,
   "id": "1d239f85",
   "metadata": {},
   "outputs": [],
   "source": [
    "import matplotlib.pyplot as plt\n",
    "%matplotlib inline"
   ]
  },
  {
   "cell_type": "code",
   "execution_count": 28,
   "id": "9adb53ef",
   "metadata": {},
   "outputs": [
    {
     "data": {
      "text/plain": [
       "<Axes: >"
      ]
     },
     "execution_count": 28,
     "metadata": {},
     "output_type": "execute_result"
    },
    {
     "data": {
      "text/plain": [
       "<Figure size 640x480 with 0 Axes>"
      ]
     },
     "metadata": {},
     "output_type": "display_data"
    },
    {
     "data": {
      "image/png": "[encoded data removed]",
      "text/plain": [
       "<Figure size 640x480 with 1 Axes>"
      ]
     },
     "metadata": {},
     "output_type": "display_data"
    }
   ],
   "source": [
    "plt.figure()\n",
    "df[['vibration1','vibration2']].plot()"
   ]
  },
  {
   "cell_type": "code",
   "execution_count": 29,
   "id": "97cdb475",
   "metadata": {},
   "outputs": [
    {
     "data": {
      "text/plain": [
       "<Axes: >"
      ]
     },
     "execution_count": 29,
     "metadata": {},
     "output_type": "execute_result"
    },
    {
     "data": {
      "text/plain": [
       "<Figure size 640x480 with 0 Axes>"
      ]
     },
     "metadata": {},
     "output_type": "display_data"
    },
    {
     "data": {
      "image/png": "[encoded data removed]",
      "text/plain": [
       "<Figure size 640x480 with 1 Axes>"
      ]
     },
     "metadata": {},
     "output_type": "display_data"
    }
   ],
   "source": [
    "plt.figure()\n",
    "df[['humidity1','humidity2']].plot()"
   ]
  },
  {
   "cell_type": "code",
   "execution_count": 30,
   "id": "9b4907ba",
   "metadata": {},
   "outputs": [
    {
     "data": {
      "text/plain": [
       "<Axes: >"
      ]
     },
     "execution_count": 30,
     "metadata": {},
     "output_type": "execute_result"
    },
    {
     "data": {
      "text/plain": [
       "<Figure size 640x480 with 0 Axes>"
      ]
     },
     "metadata": {},
     "output_type": "display_data"
    },
    {
     "data": {
      "image/png": "[encoded data removed]",
      "text/plain": [
       "<Figure size 640x480 with 1 Axes>"
      ]
     },
     "metadata": {},
     "output_type": "display_data"
    }
   ],
   "source": [
    "plt.figure()\n",
    "df[['temperature']].plot()"
   ]
  },
  {
   "cell_type": "code",
   "execution_count": null,
   "id": "041e6dfa",
   "metadata": {},
   "outputs": [],
   "source": []
  }
 ],
 "metadata": {
  "kernelspec": {
   "display_name": "Python 3 (ipykernel)",
   "language": "python",
   "name": "python3"
  },
  "language_info": {
   "codemirror_mode": {
    "name": "ipython",
    "version": 3
   },
   "file_extension": ".py",
   "mimetype": "text/x-python",
   "name": "python",
   "nbconvert_exporter": "python",
   "pygments_lexer": "ipython3",
   "version": "3.11.4"
  }
 },
 "nbformat": 4,
 "nbformat_minor": 5
}
