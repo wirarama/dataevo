{
 "cells": [
  {
   "cell_type": "code",
   "execution_count": 1,
   "metadata": {},
   "outputs": [],
   "source": [
    "import pandas as pd\n",
    "import numpy as np"
   ]
  },
  {
   "cell_type": "code",
   "execution_count": 2,
   "metadata": {},
   "outputs": [],
   "source": [
    "d = pd.read_csv('Data.csv')"
   ]
  },
  {
   "cell_type": "code",
   "execution_count": 2,
   "metadata": {},
   "outputs": [],
   "source": [
    "d = pd.read_csv('DataBesar.csv')"
   ]
  },
  {
   "cell_type": "code",
   "execution_count": 4,
   "metadata": {},
   "outputs": [
    {
     "data": {
      "text/plain": [
       "date        1917855\n",
       "light       1917855\n",
       "temp        1917855\n",
       "voltage     1917855\n",
       "current     1917855\n",
       "humidity    1917855\n",
       "dtype: int64"
      ]
     },
     "execution_count": 4,
     "metadata": {},
     "output_type": "execute_result"
    }
   ],
   "source": [
    "d.count()"
   ]
  },
  {
   "cell_type": "code",
   "execution_count": 3,
   "metadata": {},
   "outputs": [
    {
     "data": {
      "text/html": [
       "<div>\n",
       "<style scoped>\n",
       "    .dataframe tbody tr th:only-of-type {\n",
       "        vertical-align: middle;\n",
       "    }\n",
       "\n",
       "    .dataframe tbody tr th {\n",
       "        vertical-align: top;\n",
       "    }\n",
       "\n",
       "    .dataframe thead th {\n",
       "        text-align: right;\n",
       "    }\n",
       "</style>\n",
       "<table border=\"1\" class=\"dataframe\">\n",
       "  <thead>\n",
       "    <tr style=\"text-align: right;\">\n",
       "      <th></th>\n",
       "      <th>light</th>\n",
       "      <th>temp</th>\n",
       "      <th>voltage</th>\n",
       "      <th>current</th>\n",
       "      <th>humidity</th>\n",
       "    </tr>\n",
       "  </thead>\n",
       "  <tbody>\n",
       "    <tr>\n",
       "      <td>count</td>\n",
       "      <td>1.917855e+06</td>\n",
       "      <td>1.917855e+06</td>\n",
       "      <td>1.917855e+06</td>\n",
       "      <td>1.917855e+06</td>\n",
       "      <td>1.917855e+06</td>\n",
       "    </tr>\n",
       "    <tr>\n",
       "      <td>mean</td>\n",
       "      <td>4.146771e+05</td>\n",
       "      <td>3.471533e+01</td>\n",
       "      <td>1.500313e+00</td>\n",
       "      <td>1.689001e+00</td>\n",
       "      <td>3.500511e+01</td>\n",
       "    </tr>\n",
       "    <tr>\n",
       "      <td>std</td>\n",
       "      <td>2.192125e+05</td>\n",
       "      <td>1.748198e+00</td>\n",
       "      <td>5.594734e-01</td>\n",
       "      <td>1.112449e+00</td>\n",
       "      <td>2.891017e+00</td>\n",
       "    </tr>\n",
       "    <tr>\n",
       "      <td>min</td>\n",
       "      <td>0.000000e+00</td>\n",
       "      <td>2.700003e+01</td>\n",
       "      <td>9.611445e-07</td>\n",
       "      <td>1.518231e-07</td>\n",
       "      <td>3.000000e+01</td>\n",
       "    </tr>\n",
       "    <tr>\n",
       "      <td>25%</td>\n",
       "      <td>2.383494e+05</td>\n",
       "      <td>3.342254e+01</td>\n",
       "      <td>1.175816e+00</td>\n",
       "      <td>7.630403e-01</td>\n",
       "      <td>3.250359e+01</td>\n",
       "    </tr>\n",
       "    <tr>\n",
       "      <td>50%</td>\n",
       "      <td>4.098710e+05</td>\n",
       "      <td>3.494500e+01</td>\n",
       "      <td>1.500168e+00</td>\n",
       "      <td>1.524969e+00</td>\n",
       "      <td>3.500446e+01</td>\n",
       "    </tr>\n",
       "    <tr>\n",
       "      <td>75%</td>\n",
       "      <td>6.016934e+05</td>\n",
       "      <td>3.623666e+01</td>\n",
       "      <td>1.824358e+00</td>\n",
       "      <td>2.548700e+00</td>\n",
       "      <td>3.750589e+01</td>\n",
       "    </tr>\n",
       "    <tr>\n",
       "      <td>max</td>\n",
       "      <td>8.143894e+05</td>\n",
       "      <td>3.700000e+01</td>\n",
       "      <td>5.772326e+00</td>\n",
       "      <td>3.999993e+00</td>\n",
       "      <td>9.021674e+01</td>\n",
       "    </tr>\n",
       "  </tbody>\n",
       "</table>\n",
       "</div>"
      ],
      "text/plain": [
       "              light          temp       voltage       current      humidity\n",
       "count  1.917855e+06  1.917855e+06  1.917855e+06  1.917855e+06  1.917855e+06\n",
       "mean   4.146771e+05  3.471533e+01  1.500313e+00  1.689001e+00  3.500511e+01\n",
       "std    2.192125e+05  1.748198e+00  5.594734e-01  1.112449e+00  2.891017e+00\n",
       "min    0.000000e+00  2.700003e+01  9.611445e-07  1.518231e-07  3.000000e+01\n",
       "25%    2.383494e+05  3.342254e+01  1.175816e+00  7.630403e-01  3.250359e+01\n",
       "50%    4.098710e+05  3.494500e+01  1.500168e+00  1.524969e+00  3.500446e+01\n",
       "75%    6.016934e+05  3.623666e+01  1.824358e+00  2.548700e+00  3.750589e+01\n",
       "max    8.143894e+05  3.700000e+01  5.772326e+00  3.999993e+00  9.021674e+01"
      ]
     },
     "execution_count": 3,
     "metadata": {},
     "output_type": "execute_result"
    }
   ],
   "source": [
    "d.describe()"
   ]
  },
  {
   "cell_type": "code",
   "execution_count": 5,
   "metadata": {},
   "outputs": [
    {
     "name": "stdout",
     "output_type": "stream",
     "text": [
      "                        date          light       temp   voltage   current  \\\n",
      "0        2020-04-12 08:12:33   27304.700132  34.557738  1.310696  2.959139   \n",
      "1        2020-04-12 08:12:34   27326.062970  36.777672  1.235415  1.415090   \n",
      "2        2020-04-12 08:12:35   27348.982429  34.081805  0.387462  3.037031   \n",
      "3        2020-04-12 08:12:36   27373.158876  35.612526  1.274619  1.850855   \n",
      "4        2020-04-12 08:12:37   27398.948039  33.690570  1.358040  0.351119   \n",
      "...                      ...            ...        ...       ...       ...   \n",
      "1917850  2020-05-05 17:03:12  628065.469570  32.688180  1.965895  2.905160   \n",
      "1917851  2020-05-05 17:03:13  628035.064519  36.886743  1.905918  0.877577   \n",
      "1917852  2020-05-05 17:03:14  628002.105444  32.848959  0.427384  3.161849   \n",
      "1917853  2020-05-05 17:03:15  627969.349561  36.088293  1.111846  0.736966   \n",
      "1917854  2020-05-05 17:03:16  627937.165006  32.989969  1.843013  2.664901   \n",
      "\n",
      "          humidity  \n",
      "0        36.071871  \n",
      "1        32.722446  \n",
      "2        38.970385  \n",
      "3        31.387232  \n",
      "4        36.480653  \n",
      "...            ...  \n",
      "1917850  35.444910  \n",
      "1917851  38.578970  \n",
      "1917852  38.863884  \n",
      "1917853  32.820949  \n",
      "1917854  31.304486  \n",
      "\n",
      "[1917855 rows x 6 columns]\n"
     ]
    }
   ],
   "source": [
    "print(d)"
   ]
  },
  {
   "cell_type": "code",
   "execution_count": null,
   "metadata": {},
   "outputs": [],
   "source": []
  }
 ],
 "metadata": {
  "kernelspec": {
   "display_name": "Python 3",
   "language": "python",
   "name": "python3"
  },
  "language_info": {
   "codemirror_mode": {
    "name": "ipython",
    "version": 3
   },
   "file_extension": ".py",
   "mimetype": "text/x-python",
   "name": "python",
   "nbconvert_exporter": "python",
   "pygments_lexer": "ipython3",
   "version": "3.7.4"
  }
 },
 "nbformat": 4,
 "nbformat_minor": 2
}
