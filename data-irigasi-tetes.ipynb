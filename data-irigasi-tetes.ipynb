{
 "cells": [
  {
   "cell_type": "code",
   "execution_count": 1,
   "id": "4d0b3e3b",
   "metadata": {},
   "outputs": [],
   "source": [
    "from random import randint\n",
    "import datetime\n",
    "import time"
   ]
  },
  {
   "cell_type": "code",
   "execution_count": 2,
   "id": "39d819c5",
   "metadata": {},
   "outputs": [],
   "source": [
    "d = datetime.datetime(2023, 4, 1, 11, 20)\n",
    "ud = time.mktime(d.timetuple())\n",
    "data = []\n",
    "humid = 98\n",
    "temp = 38.04\n",
    "light = 45021\n",
    "ahumid = 54\n",
    "atemp = 33"
   ]
  },
  {
   "cell_type": "code",
   "execution_count": 3,
   "id": "35b98dda",
   "metadata": {},
   "outputs": [],
   "source": [
    "def waktu(ud):\n",
    "    return datetime.datetime.fromtimestamp(ud+1).strftime('%Y-%m-%d %H:%M:%S')"
   ]
  },
  {
   "cell_type": "code",
   "execution_count": 4,
   "id": "3e53eabf",
   "metadata": {},
   "outputs": [],
   "source": [
    "#Siram\n",
    "for i in range(0,1800):\n",
    "    if humid < 98:\n",
    "        poss = randint(0,20)\n",
    "        if poss == 1:\n",
    "            humid += 1\n",
    "    if temp > 38:\n",
    "        temp = temp-(randint(0,1)/100)\n",
    "    ahumid += randint(-1,1)\n",
    "    if ahumid < 40: ahumid = 40\n",
    "    if ahumid > 67: ahumid = 67\n",
    "    if randint(0,100) == 1:\n",
    "        atemp += randint(-1,2)\n",
    "    if atemp < 28: atemp = 28\n",
    "    if atemp > 34: atemp = 34\n",
    "    light += randint(-1,1)\n",
    "    ud += 1\n",
    "    data.append([waktu(ud),humid,temp,ahumid,atemp,light,'siram'])"
   ]
  },
  {
   "cell_type": "code",
   "execution_count": 5,
   "id": "8e81e1f1",
   "metadata": {},
   "outputs": [],
   "source": [
    "#mengering\n",
    "for i in range(0,7200):\n",
    "    if humid > 40:\n",
    "        poss = randint(0,20)\n",
    "        if poss == 1:\n",
    "            humid = humid-1\n",
    "    if temp < 45:\n",
    "        temp = temp+(randint(0,1)/100)\n",
    "    ahumid += randint(-1,1)\n",
    "    if ahumid < 35: ahumid = 35\n",
    "    if ahumid > 56: ahumid = 56\n",
    "    if randint(0,100) == 1:\n",
    "        atemp += randint(-1,2)\n",
    "    if atemp < 29: atemp = 29\n",
    "    if atemp > 34: atemp = 34\n",
    "    light += randint(-1,1)\n",
    "    ud += 1\n",
    "    data.append([waktu(ud),humid,temp,ahumid,atemp,light,'mengering'])"
   ]
  },
  {
   "cell_type": "code",
   "execution_count": 6,
   "id": "92ab206d",
   "metadata": {},
   "outputs": [],
   "source": [
    "#jeda\n",
    "for i in range(0,7200):\n",
    "    if humid > 20:\n",
    "        poss = randint(0,40)\n",
    "        if poss == 1:\n",
    "            humid = humid-1\n",
    "    if temp < 50:\n",
    "        temp = temp+(randint(0,1)/100)\n",
    "    ahumid += randint(-1,1)\n",
    "    if ahumid < 40: ahumid = 40\n",
    "    if ahumid > 50: ahumid = 50\n",
    "    if randint(0,100) == 1:\n",
    "        atemp += randint(-1,2)\n",
    "    if atemp < 30: atemp = 30\n",
    "    if atemp > 34: atemp = 34\n",
    "    light += randint(-1,1)\n",
    "    ud += 1\n",
    "    data.append([waktu(ud),humid,temp,ahumid,atemp,light,'jeda'])"
   ]
  },
  {
   "cell_type": "code",
   "execution_count": null,
   "id": "5f7d7e05",
   "metadata": {},
   "outputs": [],
   "source": [
    "data"
   ]
  },
  {
   "cell_type": "code",
   "execution_count": 7,
   "id": "8b6b4752",
   "metadata": {},
   "outputs": [
    {
     "data": {
      "text/plain": [
       "16200"
      ]
     },
     "execution_count": 7,
     "metadata": {},
     "output_type": "execute_result"
    }
   ],
   "source": [
    "len(data)"
   ]
  },
  {
   "cell_type": "code",
   "execution_count": 8,
   "id": "9cdcaafd",
   "metadata": {},
   "outputs": [],
   "source": [
    "import pandas as pd"
   ]
  },
  {
   "cell_type": "code",
   "execution_count": 9,
   "id": "4bf94a41",
   "metadata": {},
   "outputs": [],
   "source": [
    "df = pd.DataFrame(data,columns=['date','humidity','temperature','ambient humidity','ambient temperature','light','status'])"
   ]
  },
  {
   "cell_type": "code",
   "execution_count": null,
   "id": "f21f5024",
   "metadata": {},
   "outputs": [],
   "source": [
    "df"
   ]
  },
  {
   "cell_type": "code",
   "execution_count": 10,
   "id": "2476080d",
   "metadata": {},
   "outputs": [
    {
     "data": {
      "text/html": [
       "<div>\n",
       "<style scoped>\n",
       "    .dataframe tbody tr th:only-of-type {\n",
       "        vertical-align: middle;\n",
       "    }\n",
       "\n",
       "    .dataframe tbody tr th {\n",
       "        vertical-align: top;\n",
       "    }\n",
       "\n",
       "    .dataframe thead th {\n",
       "        text-align: right;\n",
       "    }\n",
       "</style>\n",
       "<table border=\"1\" class=\"dataframe\">\n",
       "  <thead>\n",
       "    <tr style=\"text-align: right;\">\n",
       "      <th></th>\n",
       "      <th>humidity</th>\n",
       "      <th>temperature</th>\n",
       "      <th>ambient humidity</th>\n",
       "      <th>ambient temperature</th>\n",
       "      <th>light</th>\n",
       "    </tr>\n",
       "  </thead>\n",
       "  <tbody>\n",
       "    <tr>\n",
       "      <th>count</th>\n",
       "      <td>16200.000000</td>\n",
       "      <td>16200.000000</td>\n",
       "      <td>16200.000000</td>\n",
       "      <td>16200.000000</td>\n",
       "      <td>16200.000000</td>\n",
       "    </tr>\n",
       "    <tr>\n",
       "      <th>mean</th>\n",
       "      <td>40.165062</td>\n",
       "      <td>45.986959</td>\n",
       "      <td>46.161296</td>\n",
       "      <td>33.574568</td>\n",
       "      <td>45025.001173</td>\n",
       "    </tr>\n",
       "    <tr>\n",
       "      <th>std</th>\n",
       "      <td>24.887582</td>\n",
       "      <td>3.997128</td>\n",
       "      <td>5.501626</td>\n",
       "      <td>0.803487</td>\n",
       "      <td>58.429120</td>\n",
       "    </tr>\n",
       "    <tr>\n",
       "      <th>min</th>\n",
       "      <td>20.000000</td>\n",
       "      <td>37.990000</td>\n",
       "      <td>35.000000</td>\n",
       "      <td>30.000000</td>\n",
       "      <td>44887.000000</td>\n",
       "    </tr>\n",
       "    <tr>\n",
       "      <th>25%</th>\n",
       "      <td>20.000000</td>\n",
       "      <td>45.010000</td>\n",
       "      <td>42.000000</td>\n",
       "      <td>33.000000</td>\n",
       "      <td>44982.000000</td>\n",
       "    </tr>\n",
       "    <tr>\n",
       "      <th>50%</th>\n",
       "      <td>40.000000</td>\n",
       "      <td>45.010000</td>\n",
       "      <td>46.000000</td>\n",
       "      <td>34.000000</td>\n",
       "      <td>45037.000000</td>\n",
       "    </tr>\n",
       "    <tr>\n",
       "      <th>75%</th>\n",
       "      <td>40.000000</td>\n",
       "      <td>50.010000</td>\n",
       "      <td>49.000000</td>\n",
       "      <td>34.000000</td>\n",
       "      <td>45070.000000</td>\n",
       "    </tr>\n",
       "    <tr>\n",
       "      <th>max</th>\n",
       "      <td>98.000000</td>\n",
       "      <td>50.010000</td>\n",
       "      <td>67.000000</td>\n",
       "      <td>34.000000</td>\n",
       "      <td>45124.000000</td>\n",
       "    </tr>\n",
       "  </tbody>\n",
       "</table>\n",
       "</div>"
      ],
      "text/plain": [
       "           humidity   temperature  ambient humidity  ambient temperature  \\\n",
       "count  16200.000000  16200.000000      16200.000000         16200.000000   \n",
       "mean      40.165062     45.986959         46.161296            33.574568   \n",
       "std       24.887582      3.997128          5.501626             0.803487   \n",
       "min       20.000000     37.990000         35.000000            30.000000   \n",
       "25%       20.000000     45.010000         42.000000            33.000000   \n",
       "50%       40.000000     45.010000         46.000000            34.000000   \n",
       "75%       40.000000     50.010000         49.000000            34.000000   \n",
       "max       98.000000     50.010000         67.000000            34.000000   \n",
       "\n",
       "              light  \n",
       "count  16200.000000  \n",
       "mean   45025.001173  \n",
       "std       58.429120  \n",
       "min    44887.000000  \n",
       "25%    44982.000000  \n",
       "50%    45037.000000  \n",
       "75%    45070.000000  \n",
       "max    45124.000000  "
      ]
     },
     "execution_count": 10,
     "metadata": {},
     "output_type": "execute_result"
    }
   ],
   "source": [
    "df.describe()"
   ]
  },
  {
   "cell_type": "code",
   "execution_count": 11,
   "id": "b4ffd22d",
   "metadata": {},
   "outputs": [],
   "source": [
    "df.to_csv('out.csv')"
   ]
  },
  {
   "cell_type": "code",
   "execution_count": null,
   "id": "1d239f85",
   "metadata": {},
   "outputs": [],
   "source": []
  }
 ],
 "metadata": {
  "kernelspec": {
   "display_name": "Python 3 (ipykernel)",
   "language": "python",
   "name": "python3"
  },
  "language_info": {
   "codemirror_mode": {
    "name": "ipython",
    "version": 3
   },
   "file_extension": ".py",
   "mimetype": "text/x-python",
   "name": "python",
   "nbconvert_exporter": "python",
   "pygments_lexer": "ipython3",
   "version": "3.11.4"
  }
 },
 "nbformat": 4,
 "nbformat_minor": 5
}
